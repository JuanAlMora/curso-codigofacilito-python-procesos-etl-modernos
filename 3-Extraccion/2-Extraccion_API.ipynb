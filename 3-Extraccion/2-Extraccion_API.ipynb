{
 "cells": [
  {
   "cell_type": "markdown",
   "metadata": {},
   "source": [
    "# Extracción de datos desde APIs con Python\n"
   ]
  },
  {
   "cell_type": "markdown",
   "metadata": {},
   "source": [
    "## Conceptos básicos de APIs REST y consumo de APIs en Python"
   ]
  },
  {
   "cell_type": "markdown",
   "metadata": {},
   "source": [
    "### ¿Qué son las API?\n",
    "\n",
    "- Son un conjuntos de reglas y protocolos que permiten a diferentes aplicaciones comunicarse entre sí. \n",
    "- Se utilizan para acceder a datos de servicios web, aplicaciones en la nube, redes sociales, entre otros. \n",
    "- Proporcionan una forma estructurada y segura de obtener datos de sistemas externos."
   ]
  },
  {
   "cell_type": "markdown",
   "metadata": {},
   "source": [
    "![API](../Images/API.png)"
   ]
  },
  {
   "cell_type": "markdown",
   "metadata": {},
   "source": [
    "## Extracción de datos JSON desde APIs públicas y privadas"
   ]
  },
  {
   "cell_type": "markdown",
   "metadata": {},
   "source": [
    "![API_Spotify](../Images/API_Spotify.png)"
   ]
  },
  {
   "cell_type": "code",
   "execution_count": 1,
   "metadata": {},
   "outputs": [],
   "source": [
    "import pandas as pd\n",
    "import os\n",
    "import json\n",
    "import requests\n",
    "import re\n",
    "import base64\n",
    "from requests.auth import HTTPBasicAuth"
   ]
  },
  {
   "cell_type": "code",
   "execution_count": 2,
   "metadata": {},
   "outputs": [
    {
     "name": "stdout",
     "output_type": "stream",
     "text": [
      "Token válido\n"
     ]
    }
   ],
   "source": [
    "path = os.getcwd()\n",
    "path_credenciales = os.path.join(path, 'secretos', 'credentials_spoty.json')\n",
    "with open(path_credenciales) as f:\n",
    "    credenciales = json.load(f)\n",
    "    client_id = credenciales['client_id']\n",
    "    client_secret = credenciales['client_secret']\n",
    "\n",
    "data = {\n",
    "    'grant_type': 'client_credentials',\n",
    "    'client_id': client_id,\n",
    "    'client_secret': client_secret\n",
    "}\n",
    "\n",
    "token_url = 'https://accounts.spotify.com/api/token'\n",
    "response = requests.post(token_url, data=data)\n",
    "\n",
    "if response.status_code == 200:\n",
    "    token = response.json()['access_token']\n",
    "    print('Token válido')\n",
    "else:\n",
    "    print('Error en la obtención del token')\n",
    "    print(response.text)"
   ]
  },
  {
   "cell_type": "code",
   "execution_count": 3,
   "metadata": {},
   "outputs": [
    {
     "name": "stdout",
     "output_type": "stream",
     "text": [
      "Nombre: And I Love Her - Remastered 2009\n",
      "Artista: The Beatles\n",
      "Album: A Hard Day's Night (Remastered)\n",
      "-------------------\n",
      "Nombre: Here Comes The Sun - Remastered 2009\n",
      "Artista: The Beatles\n",
      "Album: Abbey Road (Remastered)\n",
      "-------------------\n",
      "Nombre: Now And Then\n",
      "Artista: The Beatles\n",
      "Album: Now And Then\n",
      "-------------------\n",
      "Nombre: The Beatles “Julia” - Franco Piccinno, piano\n",
      "Artista: Franco Piccinno\n",
      "Album: The Beatles “Julia” - Franco Piccinno, piano\n",
      "-------------------\n",
      "Nombre: Strawberry Fields Forever - Remastered 2009\n",
      "Artista: The Beatles\n",
      "Album: Magical Mystery Tour (Remastered)\n",
      "-------------------\n"
     ]
    }
   ],
   "source": [
    "# Usando el mismo token que ya tienes\n",
    "url = 'https://api.spotify.com/v1/search'\n",
    "params = {\n",
    "    'q': 'The Beatles',  # Término de búsqueda\n",
    "    'type': 'track',     # Buscamos tracks\n",
    "    'limit': 5           # Limitamos a 5 resultados\n",
    "}\n",
    "headers = {\n",
    "    'Authorization': f'Bearer {token}'\n",
    "}\n",
    "\n",
    "response = requests.get(url, headers=headers, params=params)\n",
    "data = response.json()\n",
    "\n",
    "# Para ver los resultados de manera más ordenada\n",
    "if response.status_code == 200:\n",
    "    tracks = data['tracks']['items']\n",
    "    for track in tracks:\n",
    "        print(f\"Nombre: {track['name']}\")\n",
    "        print(f\"Artista: {track['artists'][0]['name']}\")\n",
    "        print(f\"Album: {track['album']['name']}\")\n",
    "        print(\"-------------------\")"
   ]
  },
  {
   "cell_type": "markdown",
   "metadata": {},
   "source": [
    "Consumo de la API de [mockaroo](https://www.mockaroo.com/), que es una herramienta que permite generar datos de prueba en diferentes formatos, como JSON, CSV, SQL y Excel."
   ]
  },
  {
   "cell_type": "code",
   "execution_count": 4,
   "metadata": {},
   "outputs": [],
   "source": [
    "import requests\n",
    "headers = {'X-Api-Key': '679636c0'}\n",
    "response = requests.get('https://my.api.mockaroo.com/prueba.json', headers=headers)"
   ]
  },
  {
   "cell_type": "code",
   "execution_count": 5,
   "metadata": {},
   "outputs": [
    {
     "data": {
      "text/plain": [
       "[{'id': 1,\n",
       "  'first_name': 'Abagael',\n",
       "  'last_name': 'Caesmans',\n",
       "  'email': 'acaesmans0@aol.com',\n",
       "  'gender': 'Female',\n",
       "  'ip_address': '247.87.95.240'},\n",
       " {'id': 2,\n",
       "  'first_name': 'Mitch',\n",
       "  'last_name': 'Ortmann',\n",
       "  'email': 'mortmann1@patch.com',\n",
       "  'gender': 'Male',\n",
       "  'ip_address': '49.183.66.196'},\n",
       " {'id': 3,\n",
       "  'first_name': 'Cammi',\n",
       "  'last_name': 'Poncet',\n",
       "  'email': 'cponcet2@alibaba.com',\n",
       "  'gender': 'Female',\n",
       "  'ip_address': '252.58.137.136'},\n",
       " {'id': 4,\n",
       "  'first_name': 'Ludovico',\n",
       "  'last_name': 'Eaklee',\n",
       "  'email': 'leaklee3@guardian.co.uk',\n",
       "  'gender': 'Male',\n",
       "  'ip_address': '6.205.132.155'},\n",
       " {'id': 5,\n",
       "  'first_name': 'Tanney',\n",
       "  'last_name': 'Roncelli',\n",
       "  'email': 'troncelli4@51.la',\n",
       "  'gender': 'Male',\n",
       "  'ip_address': '68.33.10.64'},\n",
       " {'id': 6,\n",
       "  'first_name': 'Maurise',\n",
       "  'last_name': \"D'Agostino\",\n",
       "  'email': 'mdagostino5@abc.net.au',\n",
       "  'gender': 'Female',\n",
       "  'ip_address': '194.55.204.135'},\n",
       " {'id': 7,\n",
       "  'first_name': 'Isadora',\n",
       "  'last_name': 'Gillcrist',\n",
       "  'email': 'igillcrist6@alexa.com',\n",
       "  'gender': 'Polygender',\n",
       "  'ip_address': '240.218.253.208'},\n",
       " {'id': 8,\n",
       "  'first_name': 'Ricard',\n",
       "  'last_name': 'Rykert',\n",
       "  'email': 'rrykert7@geocities.com',\n",
       "  'gender': 'Male',\n",
       "  'ip_address': '85.80.86.220'},\n",
       " {'id': 9,\n",
       "  'first_name': 'Damian',\n",
       "  'last_name': 'Whitehair',\n",
       "  'email': 'dwhitehair8@technorati.com',\n",
       "  'gender': 'Male',\n",
       "  'ip_address': '213.156.182.21'},\n",
       " {'id': 10,\n",
       "  'first_name': 'Timmy',\n",
       "  'last_name': 'Berney',\n",
       "  'email': 'tberney9@vk.com',\n",
       "  'gender': 'Male',\n",
       "  'ip_address': '231.206.159.223'}]"
      ]
     },
     "execution_count": 5,
     "metadata": {},
     "output_type": "execute_result"
    }
   ],
   "source": [
    "response.json()"
   ]
  },
  {
   "cell_type": "markdown",
   "metadata": {},
   "source": [
    "### Pandas JSON"
   ]
  },
  {
   "cell_type": "code",
   "execution_count": 6,
   "metadata": {},
   "outputs": [],
   "source": [
    "import pandas as pd\n",
    "from io import StringIO"
   ]
  },
  {
   "cell_type": "code",
   "execution_count": 7,
   "metadata": {},
   "outputs": [
    {
     "data": {
      "text/html": [
       "<div>\n",
       "<style scoped>\n",
       "    .dataframe tbody tr th:only-of-type {\n",
       "        vertical-align: middle;\n",
       "    }\n",
       "\n",
       "    .dataframe tbody tr th {\n",
       "        vertical-align: top;\n",
       "    }\n",
       "\n",
       "    .dataframe thead th {\n",
       "        text-align: right;\n",
       "    }\n",
       "</style>\n",
       "<table border=\"1\" class=\"dataframe\">\n",
       "  <thead>\n",
       "    <tr style=\"text-align: right;\">\n",
       "      <th></th>\n",
       "      <th>id</th>\n",
       "      <th>first_name</th>\n",
       "      <th>last_name</th>\n",
       "      <th>email</th>\n",
       "      <th>gender</th>\n",
       "      <th>ip_address</th>\n",
       "    </tr>\n",
       "  </thead>\n",
       "  <tbody>\n",
       "    <tr>\n",
       "      <th>0</th>\n",
       "      <td>1</td>\n",
       "      <td>Abagael</td>\n",
       "      <td>Caesmans</td>\n",
       "      <td>acaesmans0@aol.com</td>\n",
       "      <td>Female</td>\n",
       "      <td>247.87.95.240</td>\n",
       "    </tr>\n",
       "    <tr>\n",
       "      <th>1</th>\n",
       "      <td>2</td>\n",
       "      <td>Mitch</td>\n",
       "      <td>Ortmann</td>\n",
       "      <td>mortmann1@patch.com</td>\n",
       "      <td>Male</td>\n",
       "      <td>49.183.66.196</td>\n",
       "    </tr>\n",
       "    <tr>\n",
       "      <th>2</th>\n",
       "      <td>3</td>\n",
       "      <td>Cammi</td>\n",
       "      <td>Poncet</td>\n",
       "      <td>cponcet2@alibaba.com</td>\n",
       "      <td>Female</td>\n",
       "      <td>252.58.137.136</td>\n",
       "    </tr>\n",
       "    <tr>\n",
       "      <th>3</th>\n",
       "      <td>4</td>\n",
       "      <td>Ludovico</td>\n",
       "      <td>Eaklee</td>\n",
       "      <td>leaklee3@guardian.co.uk</td>\n",
       "      <td>Male</td>\n",
       "      <td>6.205.132.155</td>\n",
       "    </tr>\n",
       "    <tr>\n",
       "      <th>4</th>\n",
       "      <td>5</td>\n",
       "      <td>Tanney</td>\n",
       "      <td>Roncelli</td>\n",
       "      <td>troncelli4@51.la</td>\n",
       "      <td>Male</td>\n",
       "      <td>68.33.10.64</td>\n",
       "    </tr>\n",
       "    <tr>\n",
       "      <th>5</th>\n",
       "      <td>6</td>\n",
       "      <td>Maurise</td>\n",
       "      <td>D'Agostino</td>\n",
       "      <td>mdagostino5@abc.net.au</td>\n",
       "      <td>Female</td>\n",
       "      <td>194.55.204.135</td>\n",
       "    </tr>\n",
       "    <tr>\n",
       "      <th>6</th>\n",
       "      <td>7</td>\n",
       "      <td>Isadora</td>\n",
       "      <td>Gillcrist</td>\n",
       "      <td>igillcrist6@alexa.com</td>\n",
       "      <td>Polygender</td>\n",
       "      <td>240.218.253.208</td>\n",
       "    </tr>\n",
       "    <tr>\n",
       "      <th>7</th>\n",
       "      <td>8</td>\n",
       "      <td>Ricard</td>\n",
       "      <td>Rykert</td>\n",
       "      <td>rrykert7@geocities.com</td>\n",
       "      <td>Male</td>\n",
       "      <td>85.80.86.220</td>\n",
       "    </tr>\n",
       "    <tr>\n",
       "      <th>8</th>\n",
       "      <td>9</td>\n",
       "      <td>Damian</td>\n",
       "      <td>Whitehair</td>\n",
       "      <td>dwhitehair8@technorati.com</td>\n",
       "      <td>Male</td>\n",
       "      <td>213.156.182.21</td>\n",
       "    </tr>\n",
       "    <tr>\n",
       "      <th>9</th>\n",
       "      <td>10</td>\n",
       "      <td>Timmy</td>\n",
       "      <td>Berney</td>\n",
       "      <td>tberney9@vk.com</td>\n",
       "      <td>Male</td>\n",
       "      <td>231.206.159.223</td>\n",
       "    </tr>\n",
       "  </tbody>\n",
       "</table>\n",
       "</div>"
      ],
      "text/plain": [
       "   id first_name   last_name                       email      gender  \\\n",
       "0   1    Abagael    Caesmans          acaesmans0@aol.com      Female   \n",
       "1   2      Mitch     Ortmann         mortmann1@patch.com        Male   \n",
       "2   3      Cammi      Poncet        cponcet2@alibaba.com      Female   \n",
       "3   4   Ludovico      Eaklee     leaklee3@guardian.co.uk        Male   \n",
       "4   5     Tanney    Roncelli            troncelli4@51.la        Male   \n",
       "5   6    Maurise  D'Agostino      mdagostino5@abc.net.au      Female   \n",
       "6   7    Isadora   Gillcrist       igillcrist6@alexa.com  Polygender   \n",
       "7   8     Ricard      Rykert      rrykert7@geocities.com        Male   \n",
       "8   9     Damian   Whitehair  dwhitehair8@technorati.com        Male   \n",
       "9  10      Timmy      Berney             tberney9@vk.com        Male   \n",
       "\n",
       "        ip_address  \n",
       "0    247.87.95.240  \n",
       "1    49.183.66.196  \n",
       "2   252.58.137.136  \n",
       "3    6.205.132.155  \n",
       "4      68.33.10.64  \n",
       "5   194.55.204.135  \n",
       "6  240.218.253.208  \n",
       "7     85.80.86.220  \n",
       "8   213.156.182.21  \n",
       "9  231.206.159.223  "
      ]
     },
     "execution_count": 7,
     "metadata": {},
     "output_type": "execute_result"
    }
   ],
   "source": [
    "pd.read_json(StringIO(response.text))"
   ]
  },
  {
   "cell_type": "code",
   "execution_count": 8,
   "metadata": {},
   "outputs": [],
   "source": [
    "path_data = os.path.join(os.getcwd(), 'data')\n",
    "\n",
    "ejemplo1 = os.path.join(path_data, 'ejemplo1.json')\n",
    "ejemplo2 = os.path.join(path_data, 'ejemplo2.json')\n",
    "ejemplo3 = os.path.join(path_data, 'ejemplo3.json')"
   ]
  },
  {
   "cell_type": "markdown",
   "metadata": {},
   "source": [
    "#### Ejemplo 1"
   ]
  },
  {
   "cell_type": "code",
   "execution_count": 9,
   "metadata": {},
   "outputs": [
    {
     "data": {
      "text/html": [
       "<div>\n",
       "<style scoped>\n",
       "    .dataframe tbody tr th:only-of-type {\n",
       "        vertical-align: middle;\n",
       "    }\n",
       "\n",
       "    .dataframe tbody tr th {\n",
       "        vertical-align: top;\n",
       "    }\n",
       "\n",
       "    .dataframe thead th {\n",
       "        text-align: right;\n",
       "    }\n",
       "</style>\n",
       "<table border=\"1\" class=\"dataframe\">\n",
       "  <thead>\n",
       "    <tr style=\"text-align: right;\">\n",
       "      <th></th>\n",
       "      <th>nombre</th>\n",
       "      <th>productos</th>\n",
       "    </tr>\n",
       "  </thead>\n",
       "  <tbody>\n",
       "    <tr>\n",
       "      <th>0</th>\n",
       "      <td>Tienda de Electrónica</td>\n",
       "      <td>{'nombre_prod': 'Laptop', 'precio': 800, 'marc...</td>\n",
       "    </tr>\n",
       "    <tr>\n",
       "      <th>1</th>\n",
       "      <td>Tienda de Electrónica</td>\n",
       "      <td>{'nombre_prod': 'Teléfono', 'precio': 500, 'ma...</td>\n",
       "    </tr>\n",
       "  </tbody>\n",
       "</table>\n",
       "</div>"
      ],
      "text/plain": [
       "                  nombre                                          productos\n",
       "0  Tienda de Electrónica  {'nombre_prod': 'Laptop', 'precio': 800, 'marc...\n",
       "1  Tienda de Electrónica  {'nombre_prod': 'Teléfono', 'precio': 500, 'ma..."
      ]
     },
     "execution_count": 9,
     "metadata": {},
     "output_type": "execute_result"
    }
   ],
   "source": [
    "pd.read_json(ejemplo1)"
   ]
  },
  {
   "cell_type": "markdown",
   "metadata": {},
   "source": [
    "#### json_normalize"
   ]
  },
  {
   "cell_type": "markdown",
   "metadata": {},
   "source": [
    "**¿Qué hace `pd.json_normalize`?**\n",
    "\n",
    "En esencia, esta función de Pandas toma datos JSON potencialmente complejos y anidados, y los transforma en un DataFrame plano y estructurado, que es mucho más fácil de manipular y analizar.\n",
    "\n",
    "**Desglose de los parámetros:**\n",
    "\n",
    "* `data`: Este es el JSON que contiene tus datos.\n",
    "\n",
    "* `record_path='productos'`: Aquí le estás diciendo a Pandas: \"Dentro de mi diccionario `data`, busca una lista llamada 'productos'. Cada elemento dentro de esa lista representa una fila en mi DataFrame final\".\n",
    "\n",
    "* `meta=['nombre']`:  Con esto indicas: \"Además de los datos dentro de 'productos', quiero incluir una columna adicional llamada 'nombre' en mi DataFrame. El valor de esta columna será el valor asociado a la clave 'nombre' en el nivel superior de mi diccionario `data`\".  En nuestro ejemplo, esto significa que cada fila tendrá el nombre de la tienda (\"Tienda de Electrónica\") junto con los detalles del producto.\n"
   ]
  },
  {
   "cell_type": "code",
   "execution_count": 10,
   "metadata": {},
   "outputs": [
    {
     "data": {
      "text/html": [
       "<div>\n",
       "<style scoped>\n",
       "    .dataframe tbody tr th:only-of-type {\n",
       "        vertical-align: middle;\n",
       "    }\n",
       "\n",
       "    .dataframe tbody tr th {\n",
       "        vertical-align: top;\n",
       "    }\n",
       "\n",
       "    .dataframe thead th {\n",
       "        text-align: right;\n",
       "    }\n",
       "</style>\n",
       "<table border=\"1\" class=\"dataframe\">\n",
       "  <thead>\n",
       "    <tr style=\"text-align: right;\">\n",
       "      <th></th>\n",
       "      <th>nombre_prod</th>\n",
       "      <th>precio</th>\n",
       "      <th>marca</th>\n",
       "      <th>nombre</th>\n",
       "    </tr>\n",
       "  </thead>\n",
       "  <tbody>\n",
       "    <tr>\n",
       "      <th>0</th>\n",
       "      <td>Laptop</td>\n",
       "      <td>800</td>\n",
       "      <td>Marca A</td>\n",
       "      <td>Tienda de Electrónica</td>\n",
       "    </tr>\n",
       "    <tr>\n",
       "      <th>1</th>\n",
       "      <td>Teléfono</td>\n",
       "      <td>500</td>\n",
       "      <td>Marca B</td>\n",
       "      <td>Tienda de Electrónica</td>\n",
       "    </tr>\n",
       "  </tbody>\n",
       "</table>\n",
       "</div>"
      ],
      "text/plain": [
       "  nombre_prod  precio    marca                 nombre\n",
       "0      Laptop     800  Marca A  Tienda de Electrónica\n",
       "1    Teléfono     500  Marca B  Tienda de Electrónica"
      ]
     },
     "execution_count": 10,
     "metadata": {},
     "output_type": "execute_result"
    }
   ],
   "source": [
    "data = json.load(open(ejemplo1))\n",
    "pd.json_normalize(\n",
    "    data,\n",
    "    record_path='productos',\n",
    "    meta=['nombre']\n",
    ")"
   ]
  },
  {
   "cell_type": "markdown",
   "metadata": {},
   "source": [
    "#### Ejemplo 2"
   ]
  },
  {
   "cell_type": "code",
   "execution_count": 11,
   "metadata": {},
   "outputs": [
    {
     "data": {
      "text/html": [
       "<div>\n",
       "<style scoped>\n",
       "    .dataframe tbody tr th:only-of-type {\n",
       "        vertical-align: middle;\n",
       "    }\n",
       "\n",
       "    .dataframe tbody tr th {\n",
       "        vertical-align: top;\n",
       "    }\n",
       "\n",
       "    .dataframe thead th {\n",
       "        text-align: right;\n",
       "    }\n",
       "</style>\n",
       "<table border=\"1\" class=\"dataframe\">\n",
       "  <thead>\n",
       "    <tr style=\"text-align: right;\">\n",
       "      <th></th>\n",
       "      <th>usuario</th>\n",
       "    </tr>\n",
       "  </thead>\n",
       "  <tbody>\n",
       "    <tr>\n",
       "      <th>nombre</th>\n",
       "      <td>Juan</td>\n",
       "    </tr>\n",
       "    <tr>\n",
       "      <th>edad</th>\n",
       "      <td>30</td>\n",
       "    </tr>\n",
       "    <tr>\n",
       "      <th>direcciones</th>\n",
       "      <td>[{'calle': 'Calle Principal 123', 'ciudad': 'C...</td>\n",
       "    </tr>\n",
       "    <tr>\n",
       "      <th>compras</th>\n",
       "      <td>[{'producto': 'Libro', 'precio': 20, 'fecha': ...</td>\n",
       "    </tr>\n",
       "  </tbody>\n",
       "</table>\n",
       "</div>"
      ],
      "text/plain": [
       "                                                       usuario\n",
       "nombre                                                    Juan\n",
       "edad                                                        30\n",
       "direcciones  [{'calle': 'Calle Principal 123', 'ciudad': 'C...\n",
       "compras      [{'producto': 'Libro', 'precio': 20, 'fecha': ..."
      ]
     },
     "execution_count": 11,
     "metadata": {},
     "output_type": "execute_result"
    }
   ],
   "source": [
    "pd.read_json(ejemplo2)"
   ]
  },
  {
   "cell_type": "code",
   "execution_count": 12,
   "metadata": {},
   "outputs": [
    {
     "data": {
      "text/html": [
       "<div>\n",
       "<style scoped>\n",
       "    .dataframe tbody tr th:only-of-type {\n",
       "        vertical-align: middle;\n",
       "    }\n",
       "\n",
       "    .dataframe tbody tr th {\n",
       "        vertical-align: top;\n",
       "    }\n",
       "\n",
       "    .dataframe thead th {\n",
       "        text-align: right;\n",
       "    }\n",
       "</style>\n",
       "<table border=\"1\" class=\"dataframe\">\n",
       "  <thead>\n",
       "    <tr style=\"text-align: right;\">\n",
       "      <th></th>\n",
       "      <th>usuario.nombre</th>\n",
       "      <th>usuario.edad</th>\n",
       "      <th>usuario.direcciones</th>\n",
       "      <th>usuario.compras</th>\n",
       "    </tr>\n",
       "  </thead>\n",
       "  <tbody>\n",
       "    <tr>\n",
       "      <th>0</th>\n",
       "      <td>Juan</td>\n",
       "      <td>30</td>\n",
       "      <td>[{'calle': 'Calle Principal 123', 'ciudad': 'C...</td>\n",
       "      <td>[{'producto': 'Libro', 'precio': 20, 'fecha': ...</td>\n",
       "    </tr>\n",
       "  </tbody>\n",
       "</table>\n",
       "</div>"
      ],
      "text/plain": [
       "  usuario.nombre  usuario.edad  \\\n",
       "0           Juan            30   \n",
       "\n",
       "                                 usuario.direcciones  \\\n",
       "0  [{'calle': 'Calle Principal 123', 'ciudad': 'C...   \n",
       "\n",
       "                                     usuario.compras  \n",
       "0  [{'producto': 'Libro', 'precio': 20, 'fecha': ...  "
      ]
     },
     "execution_count": 12,
     "metadata": {},
     "output_type": "execute_result"
    }
   ],
   "source": [
    "data2 = json.load(open(ejemplo2))\n",
    "pd.json_normalize(\n",
    "    data2\n",
    ")"
   ]
  },
  {
   "cell_type": "code",
   "execution_count": 13,
   "metadata": {},
   "outputs": [
    {
     "data": {
      "text/html": [
       "<div>\n",
       "<style scoped>\n",
       "    .dataframe tbody tr th:only-of-type {\n",
       "        vertical-align: middle;\n",
       "    }\n",
       "\n",
       "    .dataframe tbody tr th {\n",
       "        vertical-align: top;\n",
       "    }\n",
       "\n",
       "    .dataframe thead th {\n",
       "        text-align: right;\n",
       "    }\n",
       "</style>\n",
       "<table border=\"1\" class=\"dataframe\">\n",
       "  <thead>\n",
       "    <tr style=\"text-align: right;\">\n",
       "      <th></th>\n",
       "      <th>calle</th>\n",
       "      <th>ciudad</th>\n",
       "      <th>id</th>\n",
       "      <th>nombre</th>\n",
       "      <th>edad</th>\n",
       "    </tr>\n",
       "  </thead>\n",
       "  <tbody>\n",
       "    <tr>\n",
       "      <th>0</th>\n",
       "      <td>Calle Principal 123</td>\n",
       "      <td>Ciudad A</td>\n",
       "      <td>1</td>\n",
       "      <td>Juan</td>\n",
       "      <td>30</td>\n",
       "    </tr>\n",
       "    <tr>\n",
       "      <th>1</th>\n",
       "      <td>Avenida Secundaria 456</td>\n",
       "      <td>Ciudad B</td>\n",
       "      <td>2</td>\n",
       "      <td>Juan</td>\n",
       "      <td>30</td>\n",
       "    </tr>\n",
       "  </tbody>\n",
       "</table>\n",
       "</div>"
      ],
      "text/plain": [
       "                    calle    ciudad  id nombre edad\n",
       "0     Calle Principal 123  Ciudad A   1   Juan   30\n",
       "1  Avenida Secundaria 456  Ciudad B   2   Juan   30"
      ]
     },
     "execution_count": 13,
     "metadata": {},
     "output_type": "execute_result"
    }
   ],
   "source": [
    "pd.json_normalize(\n",
    "    data2['usuario'],\n",
    "    record_path=['direcciones'],\n",
    "    meta=['nombre', 'edad',]\n",
    ")"
   ]
  },
  {
   "cell_type": "code",
   "execution_count": 14,
   "metadata": {},
   "outputs": [
    {
     "data": {
      "text/html": [
       "<div>\n",
       "<style scoped>\n",
       "    .dataframe tbody tr th:only-of-type {\n",
       "        vertical-align: middle;\n",
       "    }\n",
       "\n",
       "    .dataframe tbody tr th {\n",
       "        vertical-align: top;\n",
       "    }\n",
       "\n",
       "    .dataframe thead th {\n",
       "        text-align: right;\n",
       "    }\n",
       "</style>\n",
       "<table border=\"1\" class=\"dataframe\">\n",
       "  <thead>\n",
       "    <tr style=\"text-align: right;\">\n",
       "      <th></th>\n",
       "      <th>producto</th>\n",
       "      <th>precio</th>\n",
       "      <th>fecha</th>\n",
       "      <th>id</th>\n",
       "      <th>nombre</th>\n",
       "      <th>edad</th>\n",
       "    </tr>\n",
       "  </thead>\n",
       "  <tbody>\n",
       "    <tr>\n",
       "      <th>0</th>\n",
       "      <td>Libro</td>\n",
       "      <td>20</td>\n",
       "      <td>2020-01-01</td>\n",
       "      <td>1</td>\n",
       "      <td>Juan</td>\n",
       "      <td>30</td>\n",
       "    </tr>\n",
       "    <tr>\n",
       "      <th>1</th>\n",
       "      <td>Película</td>\n",
       "      <td>15</td>\n",
       "      <td>2020-01-02</td>\n",
       "      <td>2</td>\n",
       "      <td>Juan</td>\n",
       "      <td>30</td>\n",
       "    </tr>\n",
       "  </tbody>\n",
       "</table>\n",
       "</div>"
      ],
      "text/plain": [
       "   producto  precio       fecha  id nombre edad\n",
       "0     Libro      20  2020-01-01   1   Juan   30\n",
       "1  Película      15  2020-01-02   2   Juan   30"
      ]
     },
     "execution_count": 14,
     "metadata": {},
     "output_type": "execute_result"
    }
   ],
   "source": [
    "pd.json_normalize(\n",
    "        data2['usuario'],\n",
    "    record_path=['compras'],\n",
    "    meta=['nombre', 'edad',]\n",
    ")"
   ]
  },
  {
   "cell_type": "markdown",
   "metadata": {},
   "source": [
    "#### Ejemplo 3"
   ]
  },
  {
   "cell_type": "code",
   "execution_count": 15,
   "metadata": {},
   "outputs": [
    {
     "data": {
      "text/html": [
       "<div>\n",
       "<style scoped>\n",
       "    .dataframe tbody tr th:only-of-type {\n",
       "        vertical-align: middle;\n",
       "    }\n",
       "\n",
       "    .dataframe tbody tr th {\n",
       "        vertical-align: top;\n",
       "    }\n",
       "\n",
       "    .dataframe thead th {\n",
       "        text-align: right;\n",
       "    }\n",
       "</style>\n",
       "<table border=\"1\" class=\"dataframe\">\n",
       "  <thead>\n",
       "    <tr style=\"text-align: right;\">\n",
       "      <th></th>\n",
       "      <th>escuela</th>\n",
       "    </tr>\n",
       "  </thead>\n",
       "  <tbody>\n",
       "    <tr>\n",
       "      <th>nombre</th>\n",
       "      <td>Escuela Primaria</td>\n",
       "    </tr>\n",
       "    <tr>\n",
       "      <th>grados</th>\n",
       "      <td>[{'nombre': 'Primer Grado', 'alumnos': [{'nomb...</td>\n",
       "    </tr>\n",
       "  </tbody>\n",
       "</table>\n",
       "</div>"
      ],
      "text/plain": [
       "                                                  escuela\n",
       "nombre                                   Escuela Primaria\n",
       "grados  [{'nombre': 'Primer Grado', 'alumnos': [{'nomb..."
      ]
     },
     "execution_count": 15,
     "metadata": {},
     "output_type": "execute_result"
    }
   ],
   "source": [
    "pd.read_json(ejemplo3)"
   ]
  },
  {
   "cell_type": "code",
   "execution_count": 16,
   "metadata": {},
   "outputs": [
    {
     "data": {
      "text/html": [
       "<div>\n",
       "<style scoped>\n",
       "    .dataframe tbody tr th:only-of-type {\n",
       "        vertical-align: middle;\n",
       "    }\n",
       "\n",
       "    .dataframe tbody tr th {\n",
       "        vertical-align: top;\n",
       "    }\n",
       "\n",
       "    .dataframe thead th {\n",
       "        text-align: right;\n",
       "    }\n",
       "</style>\n",
       "<table border=\"1\" class=\"dataframe\">\n",
       "  <thead>\n",
       "    <tr style=\"text-align: right;\">\n",
       "      <th></th>\n",
       "      <th>escuela.nombre</th>\n",
       "      <th>escuela.grados</th>\n",
       "    </tr>\n",
       "  </thead>\n",
       "  <tbody>\n",
       "    <tr>\n",
       "      <th>0</th>\n",
       "      <td>Escuela Primaria</td>\n",
       "      <td>[{'nombre': 'Primer Grado', 'alumnos': [{'nomb...</td>\n",
       "    </tr>\n",
       "  </tbody>\n",
       "</table>\n",
       "</div>"
      ],
      "text/plain": [
       "     escuela.nombre                                     escuela.grados\n",
       "0  Escuela Primaria  [{'nombre': 'Primer Grado', 'alumnos': [{'nomb..."
      ]
     },
     "execution_count": 16,
     "metadata": {},
     "output_type": "execute_result"
    }
   ],
   "source": [
    "data3 = json.load(open(ejemplo3))\n",
    "pd.json_normalize(\n",
    "    data3\n",
    ")"
   ]
  },
  {
   "cell_type": "code",
   "execution_count": 17,
   "metadata": {},
   "outputs": [
    {
     "data": {
      "text/html": [
       "<div>\n",
       "<style scoped>\n",
       "    .dataframe tbody tr th:only-of-type {\n",
       "        vertical-align: middle;\n",
       "    }\n",
       "\n",
       "    .dataframe tbody tr th {\n",
       "        vertical-align: top;\n",
       "    }\n",
       "\n",
       "    .dataframe thead th {\n",
       "        text-align: right;\n",
       "    }\n",
       "</style>\n",
       "<table border=\"1\" class=\"dataframe\">\n",
       "  <thead>\n",
       "    <tr style=\"text-align: right;\">\n",
       "      <th></th>\n",
       "      <th>nombre</th>\n",
       "      <th>edad</th>\n",
       "      <th>grado_nombre</th>\n",
       "    </tr>\n",
       "  </thead>\n",
       "  <tbody>\n",
       "    <tr>\n",
       "      <th>0</th>\n",
       "      <td>Ana</td>\n",
       "      <td>6</td>\n",
       "      <td>Primer Grado</td>\n",
       "    </tr>\n",
       "    <tr>\n",
       "      <th>1</th>\n",
       "      <td>Pedro</td>\n",
       "      <td>7</td>\n",
       "      <td>Primer Grado</td>\n",
       "    </tr>\n",
       "    <tr>\n",
       "      <th>2</th>\n",
       "      <td>María</td>\n",
       "      <td>7</td>\n",
       "      <td>Segundo Grado</td>\n",
       "    </tr>\n",
       "    <tr>\n",
       "      <th>3</th>\n",
       "      <td>Luis</td>\n",
       "      <td>8</td>\n",
       "      <td>Segundo Grado</td>\n",
       "    </tr>\n",
       "  </tbody>\n",
       "</table>\n",
       "</div>"
      ],
      "text/plain": [
       "  nombre  edad   grado_nombre\n",
       "0    Ana     6   Primer Grado\n",
       "1  Pedro     7   Primer Grado\n",
       "2  María     7  Segundo Grado\n",
       "3   Luis     8  Segundo Grado"
      ]
     },
     "execution_count": 17,
     "metadata": {},
     "output_type": "execute_result"
    }
   ],
   "source": [
    "pd.json_normalize(\n",
    "    data3['escuela']['grados'],\n",
    "    record_path='alumnos',\n",
    "    meta=['nombre'],\n",
    "    meta_prefix='grado_'\n",
    ")"
   ]
  }
 ],
 "metadata": {
  "kernelspec": {
   "display_name": "curso_cf_etl",
   "language": "python",
   "name": "python3"
  },
  "language_info": {
   "codemirror_mode": {
    "name": "ipython",
    "version": 3
   },
   "file_extension": ".py",
   "mimetype": "text/x-python",
   "name": "python",
   "nbconvert_exporter": "python",
   "pygments_lexer": "ipython3",
   "version": "3.11.9"
  }
 },
 "nbformat": 4,
 "nbformat_minor": 2
}
